{
 "cells": [
  {
   "cell_type": "markdown",
   "id": "6d28a8f2",
   "metadata": {},
   "source": [
    "# Homework Week 1"
   ]
  },
  {
   "cell_type": "code",
   "execution_count": 2,
   "id": "f1c02c22",
   "metadata": {},
   "outputs": [],
   "source": [
    "import numpy as np\n",
    "import pandas as pd"
   ]
  },
  {
   "cell_type": "markdown",
   "id": "9d004161",
   "metadata": {},
   "source": [
    "# Question 1\n",
    "What's the version of NumPy that you installed?"
   ]
  },
  {
   "cell_type": "code",
   "execution_count": 4,
   "id": "780baa04",
   "metadata": {},
   "outputs": [
    {
     "data": {
      "text/plain": [
       "'1.21.5'"
      ]
     },
     "execution_count": 4,
     "metadata": {},
     "output_type": "execute_result"
    }
   ],
   "source": [
    "np.__version__"
   ]
  },
  {
   "cell_type": "markdown",
   "id": "b4df1ea8",
   "metadata": {},
   "source": [
    "**Answer:** 1.21.5"
   ]
  },
  {
   "cell_type": "markdown",
   "id": "56ee4e1b",
   "metadata": {},
   "source": [
    "# Question 2\n",
    "How many records are in the dataset?\n",
    "\n",
    "Here you need to specify the number of rows.\n",
    "* 16\n",
    "* 6572\n",
    "* 11914\n",
    "* 18990"
   ]
  },
  {
   "cell_type": "code",
   "execution_count": 11,
   "id": "80d0d0ef",
   "metadata": {},
   "outputs": [],
   "source": [
    " # !wget https://raw.githubusercontent.com/alexeygrigorev/mlbookcamp-code/master/chapter-02-car-price/data.csv\n"
   ]
  },
  {
   "cell_type": "code",
   "execution_count": 12,
   "id": "90d35208",
   "metadata": {},
   "outputs": [],
   "source": [
    "df = pd.read_csv(\"https://raw.githubusercontent.com/alexeygrigorev/mlbookcamp-code/master/chapter-02-car-price/data.csv\")"
   ]
  },
  {
   "cell_type": "code",
   "execution_count": 14,
   "id": "5b7129aa",
   "metadata": {},
   "outputs": [
    {
     "data": {
      "text/plain": [
       "(11914, 16)"
      ]
     },
     "execution_count": 14,
     "metadata": {},
     "output_type": "execute_result"
    }
   ],
   "source": [
    "df.shape"
   ]
  },
  {
   "cell_type": "markdown",
   "id": "fe5966e5",
   "metadata": {},
   "source": [
    "**Answer:** 11914"
   ]
  },
  {
   "cell_type": "markdown",
   "id": "f1d73c6c",
   "metadata": {},
   "source": [
    "# Question 3\n",
    "Who are the most frequent car manufacturers (top-3) according to the dataset?\n",
    "\n",
    "* Chevrolet, Volkswagen, Toyota\n",
    "* Chevrolet, Ford, Toyota\n",
    "* Ford, Volkswagen, Toyota\n",
    "* Chevrolet, Ford, Volkswagen"
   ]
  },
  {
   "cell_type": "code",
   "execution_count": 16,
   "id": "23ac971d",
   "metadata": {},
   "outputs": [
    {
     "data": {
      "text/plain": [
       "Chevrolet     1123\n",
       "Ford           881\n",
       "Volkswagen     809\n",
       "Name: Make, dtype: int64"
      ]
     },
     "execution_count": 16,
     "metadata": {},
     "output_type": "execute_result"
    }
   ],
   "source": [
    "df.Make.value_counts()[:3]"
   ]
  },
  {
   "cell_type": "markdown",
   "id": "be3a4b24",
   "metadata": {},
   "source": [
    "**Answer:** Chevrolet, Ford, Volkwagen"
   ]
  },
  {
   "cell_type": "markdown",
   "id": "13c4e437",
   "metadata": {},
   "source": [
    "# Question 4\n",
    "What's the number of unique Audi car models in the dataset?\n",
    "\n",
    "* 3\n",
    "* 16\n",
    "* 26\n",
    "* 34"
   ]
  },
  {
   "cell_type": "markdown",
   "id": "d4935895",
   "metadata": {},
   "source": [
    "df[df['Make'] == 'Audi']['Model'].nunique()"
   ]
  },
  {
   "cell_type": "markdown",
   "id": "1e19c66a",
   "metadata": {},
   "source": [
    "**Answer:** 34"
   ]
  },
  {
   "cell_type": "markdown",
   "id": "b910691f",
   "metadata": {},
   "source": [
    "# Question 5\n",
    "How many columns in the dataset have missing values?\n",
    "\n",
    "* 5\n",
    "* 6\n",
    "* 7\n",
    "* 8"
   ]
  },
  {
   "cell_type": "code",
   "execution_count": 18,
   "id": "ae24ea8c",
   "metadata": {},
   "outputs": [
    {
     "data": {
      "text/plain": [
       "5"
      ]
     },
     "execution_count": 18,
     "metadata": {},
     "output_type": "execute_result"
    }
   ],
   "source": [
    "columns_with_nan = df.columns[df.isna().any()].to_list()  # columns with missing values\n",
    "len(columns_with_nan)   # number of colmns"
   ]
  },
  {
   "cell_type": "markdown",
   "id": "03d64925",
   "metadata": {},
   "source": [
    "**Answer:** 5"
   ]
  },
  {
   "cell_type": "markdown",
   "id": "13cc98ab",
   "metadata": {},
   "source": [
    "# Question 6\n",
    "1. Find the median value of \"Engine Cylinders\" column in the dataset.\n",
    "2. Next, calculate the most frequent value of the same \"Engine Cylinders\".\n",
    "3. Use the fillna method to fill the missing values in \"Engine Cylinders\" with the most frequent value from the previous step.\n",
    "4. Now, calculate the median value of \"Engine Cylinders\" once again.\n",
    "Has it changed?\n",
    "* Yes\n",
    "* No"
   ]
  },
  {
   "cell_type": "code",
   "execution_count": 21,
   "id": "6cabe26d",
   "metadata": {},
   "outputs": [
    {
     "data": {
      "text/plain": [
       "6.0"
      ]
     },
     "execution_count": 21,
     "metadata": {},
     "output_type": "execute_result"
    }
   ],
   "source": [
    "df[\"Engine Cylinders\"].median()"
   ]
  },
  {
   "cell_type": "code",
   "execution_count": 22,
   "id": "f02d3b32",
   "metadata": {},
   "outputs": [
    {
     "data": {
      "text/plain": [
       "6.0"
      ]
     },
     "execution_count": 22,
     "metadata": {},
     "output_type": "execute_result"
    }
   ],
   "source": [
    "df[\"Engine Cylinders\"].mode()\n",
    "df[\"Engine Cylinders\"].fillna(float(df[\"Engine Cylinders\"].mode()), inplace=True)\n",
    "df[\"Engine Cylinders\"].median()"
   ]
  },
  {
   "cell_type": "markdown",
   "id": "a3967090",
   "metadata": {},
   "source": [
    "**Answer:** No"
   ]
  },
  {
   "cell_type": "markdown",
   "id": "6d62d743",
   "metadata": {},
   "source": [
    "# Question 7\n",
    "1. Select all the \"Lotus\" cars from the dataset.\n",
    "2. Select only columns \"Engine HP\", \"Engine Cylinders\".\n",
    "3. Now drop all duplicated rows using drop_duplicates method (you should get a dataframe with 9 rows).\n",
    "4. Get the underlying NumPy array. Let's call it X.\n",
    "5. Compute matrix-matrix multiplication between the transpose of X and X. To get the transpose, use X.T. Let's call the result XTX.\n",
    "6. Compute the inverse of XTX.\n",
    "7. Create an array y with values [1100, 800, 750, 850, 1300, 1000, 1000, 1300, 800].\n",
    "8. Multiply the inverse of XTX with the transpose of X, and then multiply the result by y. Call the result w.\n",
    "What's the value of the first element of w?\n",
    "* -0.0723\n",
    "* 4.5949\n",
    "* 31.6537\n",
    "* 63.5643"
   ]
  },
  {
   "cell_type": "code",
   "execution_count": 23,
   "id": "7ada1259",
   "metadata": {},
   "outputs": [],
   "source": [
    "lotus = df[df[\"Make\"] == 'Lotus']"
   ]
  },
  {
   "cell_type": "code",
   "execution_count": 24,
   "id": "1c893697",
   "metadata": {},
   "outputs": [],
   "source": [
    "selected_columns = lotus[[\"Engine HP\", \"Engine Cylinders\"]]\n",
    "selected_columns = selected_columns.drop_duplicates()"
   ]
  },
  {
   "cell_type": "code",
   "execution_count": 25,
   "id": "bb334365",
   "metadata": {},
   "outputs": [],
   "source": [
    "X = selected_columns.to_numpy()"
   ]
  },
  {
   "cell_type": "code",
   "execution_count": 26,
   "id": "5f747ccc",
   "metadata": {},
   "outputs": [],
   "source": [
    "XT = X.T    # XT is X transpose"
   ]
  },
  {
   "cell_type": "code",
   "execution_count": 27,
   "id": "ee09a296",
   "metadata": {},
   "outputs": [],
   "source": [
    "XTX = np.dot(XT, X)    # mulptiplying XT with original X"
   ]
  },
  {
   "cell_type": "code",
   "execution_count": 28,
   "id": "2dbc103b",
   "metadata": {},
   "outputs": [
    {
     "data": {
      "text/plain": [
       "array([[ 5.53084235e-05, -2.94319825e-03],\n",
       "       [-2.94319825e-03,  1.60588447e-01]])"
      ]
     },
     "execution_count": 28,
     "metadata": {},
     "output_type": "execute_result"
    }
   ],
   "source": [
    "XTXI = np.linalg.inv(XTX)\n",
    "XTXI"
   ]
  },
  {
   "cell_type": "code",
   "execution_count": 29,
   "id": "69b61bac",
   "metadata": {},
   "outputs": [],
   "source": [
    "y = np.array([1100, 800, 750, 850, 1300, 1000, 1000, 1300, 800])"
   ]
  },
  {
   "cell_type": "code",
   "execution_count": 30,
   "id": "7fc68e77",
   "metadata": {},
   "outputs": [],
   "source": [
    "w = np.dot(np.dot(XTXI, XT), y)"
   ]
  },
  {
   "cell_type": "code",
   "execution_count": 31,
   "id": "1b8c3821",
   "metadata": {},
   "outputs": [
    {
     "data": {
      "text/plain": [
       "array([  4.59494481, -63.56432501])"
      ]
     },
     "execution_count": 31,
     "metadata": {},
     "output_type": "execute_result"
    }
   ],
   "source": [
    "w"
   ]
  },
  {
   "cell_type": "markdown",
   "id": "b74d5025",
   "metadata": {},
   "source": [
    "**Answer:** 4.5949"
   ]
  }
 ],
 "metadata": {
  "kernelspec": {
   "display_name": "Python 3 (ipykernel)",
   "language": "python",
   "name": "python3"
  },
  "language_info": {
   "codemirror_mode": {
    "name": "ipython",
    "version": 3
   },
   "file_extension": ".py",
   "mimetype": "text/x-python",
   "name": "python",
   "nbconvert_exporter": "python",
   "pygments_lexer": "ipython3",
   "version": "3.9.12"
  }
 },
 "nbformat": 4,
 "nbformat_minor": 5
}
